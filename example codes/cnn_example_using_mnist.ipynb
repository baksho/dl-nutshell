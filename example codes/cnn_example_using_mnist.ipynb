{
 "cells": [
  {
   "cell_type": "markdown",
   "metadata": {
    "id": "uxHQiGL87jj6"
   },
   "source": [
    "# **CNN Eample using MNIST Database**"
   ]
  },
  {
   "cell_type": "markdown",
   "metadata": {
    "id": "E054O6jW42wI"
   },
   "source": [
    "Let us implement a **Convolutional Neural Network (CNN)** step-by-step using the famous **MNIST** (Modified National Institute of Standards and Technology) database, a large database of handwritten digits.\n",
    "\n",
    "For the purpose of this implementation, we will use **TensorFlow/Keras**. We will cover the entire process from model building to training and evaluation, along with hyperparameter tuning and common pitfalls."
   ]
  },
  {
   "cell_type": "markdown",
   "metadata": {
    "id": "XQxy8aZM5f5p"
   },
   "source": [
    "### **Step 1: Install the required libraries.**\n",
    "\n",
    "If not already installed we need to install `tensorflow` by running the below command in the bash terminal:<br>\n",
    "`pip install tensorflow`"
   ]
  },
  {
   "cell_type": "markdown",
   "metadata": {
    "id": "BChOflAB58mQ"
   },
   "source": [
    "### **Step 2: Import Necessary Libraries**\n",
    "\n",
    "First we will import all the necessary libraries that we are going to use in our code."
   ]
  },
  {
   "cell_type": "code",
   "execution_count": 1,
   "metadata": {
    "id": "M8UUtiF04mfR"
   },
   "outputs": [],
   "source": [
    "import tensorflow as tf\n",
    "from tensorflow.keras import layers, models\n",
    "from tensorflow.keras.datasets import mnist\n",
    "from tensorflow.keras.utils import to_categorical\n",
    "import matplotlib.pyplot as plt"
   ]
  },
  {
   "cell_type": "markdown",
   "metadata": {
    "id": "Y_ocrx-2_8jl"
   },
   "source": [
    "### **Step 3: Load and Preprocess the Data**\n",
    "\n",
    "We will use the **MNIST dataset** for digit recognition. TensorFlow provides a convenient function to load the dataset."
   ]
  },
  {
   "cell_type": "code",
   "execution_count": 2,
   "metadata": {
    "id": "PxXoPe017x5a"
   },
   "outputs": [
    {
     "name": "stdout",
     "output_type": "stream",
     "text": [
      "(60000, 28, 28) (60000,)\n"
     ]
    }
   ],
   "source": [
    "# Load the MNIST dataset\n",
    "(x_train, y_train), (x_test, y_test) = mnist.load_data()\n",
    "\n",
    "# Print shape of training data\n",
    "print(x_train.shape, y_train.shape)\n",
    "\n",
    "# Reshape the data to include a single color channel (grayscale)\n",
    "x_train = x_train.reshape((x_train.shape[0], 28, 28, 1))\n",
    "x_test = x_test.reshape((x_test.shape[0], 28, 28, 1))\n",
    "\n",
    "# Normalize the pixel values to be between 0 and 1\n",
    "x_train, x_test = x_train / 255.0, x_test / 255.0\n",
    "\n",
    "# One-hot encode the labels\n",
    "y_train = to_categorical(y_train)\n",
    "y_test = to_categorical(y_test)"
   ]
  },
  {
   "cell_type": "markdown",
   "metadata": {
    "id": "BxZ2I7kVAnIl"
   },
   "source": [
    "**Why Reshaping is needed?**\n",
    "\n",
    "CNN models expect input data in the format `(batch_size, height, width, channels)`, where:\n",
    "\n",
    "- `batch_size` is the number of images in each batch.\n",
    "- `height` and `width` are the dimensions of each image.\n",
    "- `channels` indicates the color channels (1 for grayscale, 3 for RGB, etc.).\n",
    "\n",
    "So, by reshaping `x_train`, you're making the data compatible with the input layer of the CNN, which expects a 4D array of shape `(num_samples, 28, 28, 1)` for the MNIST dataset.\n",
    "\n",
    "**Why Normalize the image data?**\n",
    "\n",
    "The pixel values in the MNIST dataset range from 0 to 255. In image processing and machine learning, it's common practice to **normalize** the data to a smaller range to help the model converge faster and improve performance.\n",
    "\n",
    "By dividing each pixel value by 255.0, the new pixel values will be scaled to be between 0 and 1 instead of the original range of 0 to 255. This transformation is crucial because neural networks typically perform better when the input data is in a standardized range (like between 0 and 1) - **faster convergence** and **improved accuracy**.\n",
    "\n",
    "**What is One-Hot Encoding?**\n",
    "\n",
    "One-hot encoding is a method of converting categorical data into a binary format that can be provided to machine learning algorithms. In this context, each label (e.g., the digits in the MNIST dataset, ranging from 0 to 9) is converted into a vector where:\n",
    "- The position corresponding to the correct class is marked with a 1.\n",
    "- All other positions are marked with 0.\n",
    "\n",
    "For example, for a label `3`, the one-hot encoded vector would be: `[0, 0, 0, 1, 0, 0, 0, 0, 0, 0]`"
   ]
  },
  {
   "cell_type": "markdown",
   "metadata": {
    "id": "LDldkxlYC1bm"
   },
   "source": [
    "### **Step 4: Build the CNN Model**\n",
    "\n",
    "Now let’s define the CNN model using **TensorFlow/Keras**. We’ll start with a simple CNN architecture."
   ]
  },
  {
   "cell_type": "code",
   "execution_count": 3,
   "metadata": {
    "colab": {
     "base_uri": "https://localhost:8080/",
     "height": 429
    },
    "id": "7sCWeJkfA7ji",
    "outputId": "d44f181a-41d0-481d-efca-4d72fc575487"
   },
   "outputs": [
    {
     "name": "stderr",
     "output_type": "stream",
     "text": [
      "C:\\Users\\Suvinava Basak\\AppData\\Local\\Programs\\Python\\Python312\\Lib\\site-packages\\keras\\src\\layers\\convolutional\\base_conv.py:107: UserWarning: Do not pass an `input_shape`/`input_dim` argument to a layer. When using Sequential models, prefer using an `Input(shape)` object as the first layer in the model instead.\n",
      "  super().__init__(activity_regularizer=activity_regularizer, **kwargs)\n"
     ]
    },
    {
     "data": {
      "text/html": [
       "<pre style=\"white-space:pre;overflow-x:auto;line-height:normal;font-family:Menlo,'DejaVu Sans Mono',consolas,'Courier New',monospace\"><span style=\"font-weight: bold\">Model: \"sequential\"</span>\n",
       "</pre>\n"
      ],
      "text/plain": [
       "\u001b[1mModel: \"sequential\"\u001b[0m\n"
      ]
     },
     "metadata": {},
     "output_type": "display_data"
    },
    {
     "data": {
      "text/html": [
       "<pre style=\"white-space:pre;overflow-x:auto;line-height:normal;font-family:Menlo,'DejaVu Sans Mono',consolas,'Courier New',monospace\">┏━━━━━━━━━━━━━━━━━━━━━━━━━━━━━━━━━━━━━━┳━━━━━━━━━━━━━━━━━━━━━━━━━━━━━┳━━━━━━━━━━━━━━━━━┓\n",
       "┃<span style=\"font-weight: bold\"> Layer (type)                         </span>┃<span style=\"font-weight: bold\"> Output Shape                </span>┃<span style=\"font-weight: bold\">         Param # </span>┃\n",
       "┡━━━━━━━━━━━━━━━━━━━━━━━━━━━━━━━━━━━━━━╇━━━━━━━━━━━━━━━━━━━━━━━━━━━━━╇━━━━━━━━━━━━━━━━━┩\n",
       "│ conv2d (<span style=\"color: #0087ff; text-decoration-color: #0087ff\">Conv2D</span>)                      │ (<span style=\"color: #00d7ff; text-decoration-color: #00d7ff\">None</span>, <span style=\"color: #00af00; text-decoration-color: #00af00\">26</span>, <span style=\"color: #00af00; text-decoration-color: #00af00\">26</span>, <span style=\"color: #00af00; text-decoration-color: #00af00\">32</span>)          │             <span style=\"color: #00af00; text-decoration-color: #00af00\">320</span> │\n",
       "├──────────────────────────────────────┼─────────────────────────────┼─────────────────┤\n",
       "│ max_pooling2d (<span style=\"color: #0087ff; text-decoration-color: #0087ff\">MaxPooling2D</span>)         │ (<span style=\"color: #00d7ff; text-decoration-color: #00d7ff\">None</span>, <span style=\"color: #00af00; text-decoration-color: #00af00\">13</span>, <span style=\"color: #00af00; text-decoration-color: #00af00\">13</span>, <span style=\"color: #00af00; text-decoration-color: #00af00\">32</span>)          │               <span style=\"color: #00af00; text-decoration-color: #00af00\">0</span> │\n",
       "├──────────────────────────────────────┼─────────────────────────────┼─────────────────┤\n",
       "│ conv2d_1 (<span style=\"color: #0087ff; text-decoration-color: #0087ff\">Conv2D</span>)                    │ (<span style=\"color: #00d7ff; text-decoration-color: #00d7ff\">None</span>, <span style=\"color: #00af00; text-decoration-color: #00af00\">11</span>, <span style=\"color: #00af00; text-decoration-color: #00af00\">11</span>, <span style=\"color: #00af00; text-decoration-color: #00af00\">64</span>)          │          <span style=\"color: #00af00; text-decoration-color: #00af00\">18,496</span> │\n",
       "├──────────────────────────────────────┼─────────────────────────────┼─────────────────┤\n",
       "│ max_pooling2d_1 (<span style=\"color: #0087ff; text-decoration-color: #0087ff\">MaxPooling2D</span>)       │ (<span style=\"color: #00d7ff; text-decoration-color: #00d7ff\">None</span>, <span style=\"color: #00af00; text-decoration-color: #00af00\">5</span>, <span style=\"color: #00af00; text-decoration-color: #00af00\">5</span>, <span style=\"color: #00af00; text-decoration-color: #00af00\">64</span>)            │               <span style=\"color: #00af00; text-decoration-color: #00af00\">0</span> │\n",
       "├──────────────────────────────────────┼─────────────────────────────┼─────────────────┤\n",
       "│ flatten (<span style=\"color: #0087ff; text-decoration-color: #0087ff\">Flatten</span>)                    │ (<span style=\"color: #00d7ff; text-decoration-color: #00d7ff\">None</span>, <span style=\"color: #00af00; text-decoration-color: #00af00\">1600</span>)                │               <span style=\"color: #00af00; text-decoration-color: #00af00\">0</span> │\n",
       "├──────────────────────────────────────┼─────────────────────────────┼─────────────────┤\n",
       "│ dense (<span style=\"color: #0087ff; text-decoration-color: #0087ff\">Dense</span>)                        │ (<span style=\"color: #00d7ff; text-decoration-color: #00d7ff\">None</span>, <span style=\"color: #00af00; text-decoration-color: #00af00\">64</span>)                  │         <span style=\"color: #00af00; text-decoration-color: #00af00\">102,464</span> │\n",
       "├──────────────────────────────────────┼─────────────────────────────┼─────────────────┤\n",
       "│ dense_1 (<span style=\"color: #0087ff; text-decoration-color: #0087ff\">Dense</span>)                      │ (<span style=\"color: #00d7ff; text-decoration-color: #00d7ff\">None</span>, <span style=\"color: #00af00; text-decoration-color: #00af00\">10</span>)                  │             <span style=\"color: #00af00; text-decoration-color: #00af00\">650</span> │\n",
       "└──────────────────────────────────────┴─────────────────────────────┴─────────────────┘\n",
       "</pre>\n"
      ],
      "text/plain": [
       "┏━━━━━━━━━━━━━━━━━━━━━━━━━━━━━━━━━━━━━━┳━━━━━━━━━━━━━━━━━━━━━━━━━━━━━┳━━━━━━━━━━━━━━━━━┓\n",
       "┃\u001b[1m \u001b[0m\u001b[1mLayer (type)                        \u001b[0m\u001b[1m \u001b[0m┃\u001b[1m \u001b[0m\u001b[1mOutput Shape               \u001b[0m\u001b[1m \u001b[0m┃\u001b[1m \u001b[0m\u001b[1m        Param #\u001b[0m\u001b[1m \u001b[0m┃\n",
       "┡━━━━━━━━━━━━━━━━━━━━━━━━━━━━━━━━━━━━━━╇━━━━━━━━━━━━━━━━━━━━━━━━━━━━━╇━━━━━━━━━━━━━━━━━┩\n",
       "│ conv2d (\u001b[38;5;33mConv2D\u001b[0m)                      │ (\u001b[38;5;45mNone\u001b[0m, \u001b[38;5;34m26\u001b[0m, \u001b[38;5;34m26\u001b[0m, \u001b[38;5;34m32\u001b[0m)          │             \u001b[38;5;34m320\u001b[0m │\n",
       "├──────────────────────────────────────┼─────────────────────────────┼─────────────────┤\n",
       "│ max_pooling2d (\u001b[38;5;33mMaxPooling2D\u001b[0m)         │ (\u001b[38;5;45mNone\u001b[0m, \u001b[38;5;34m13\u001b[0m, \u001b[38;5;34m13\u001b[0m, \u001b[38;5;34m32\u001b[0m)          │               \u001b[38;5;34m0\u001b[0m │\n",
       "├──────────────────────────────────────┼─────────────────────────────┼─────────────────┤\n",
       "│ conv2d_1 (\u001b[38;5;33mConv2D\u001b[0m)                    │ (\u001b[38;5;45mNone\u001b[0m, \u001b[38;5;34m11\u001b[0m, \u001b[38;5;34m11\u001b[0m, \u001b[38;5;34m64\u001b[0m)          │          \u001b[38;5;34m18,496\u001b[0m │\n",
       "├──────────────────────────────────────┼─────────────────────────────┼─────────────────┤\n",
       "│ max_pooling2d_1 (\u001b[38;5;33mMaxPooling2D\u001b[0m)       │ (\u001b[38;5;45mNone\u001b[0m, \u001b[38;5;34m5\u001b[0m, \u001b[38;5;34m5\u001b[0m, \u001b[38;5;34m64\u001b[0m)            │               \u001b[38;5;34m0\u001b[0m │\n",
       "├──────────────────────────────────────┼─────────────────────────────┼─────────────────┤\n",
       "│ flatten (\u001b[38;5;33mFlatten\u001b[0m)                    │ (\u001b[38;5;45mNone\u001b[0m, \u001b[38;5;34m1600\u001b[0m)                │               \u001b[38;5;34m0\u001b[0m │\n",
       "├──────────────────────────────────────┼─────────────────────────────┼─────────────────┤\n",
       "│ dense (\u001b[38;5;33mDense\u001b[0m)                        │ (\u001b[38;5;45mNone\u001b[0m, \u001b[38;5;34m64\u001b[0m)                  │         \u001b[38;5;34m102,464\u001b[0m │\n",
       "├──────────────────────────────────────┼─────────────────────────────┼─────────────────┤\n",
       "│ dense_1 (\u001b[38;5;33mDense\u001b[0m)                      │ (\u001b[38;5;45mNone\u001b[0m, \u001b[38;5;34m10\u001b[0m)                  │             \u001b[38;5;34m650\u001b[0m │\n",
       "└──────────────────────────────────────┴─────────────────────────────┴─────────────────┘\n"
      ]
     },
     "metadata": {},
     "output_type": "display_data"
    },
    {
     "data": {
      "text/html": [
       "<pre style=\"white-space:pre;overflow-x:auto;line-height:normal;font-family:Menlo,'DejaVu Sans Mono',consolas,'Courier New',monospace\"><span style=\"font-weight: bold\"> Total params: </span><span style=\"color: #00af00; text-decoration-color: #00af00\">121,930</span> (476.29 KB)\n",
       "</pre>\n"
      ],
      "text/plain": [
       "\u001b[1m Total params: \u001b[0m\u001b[38;5;34m121,930\u001b[0m (476.29 KB)\n"
      ]
     },
     "metadata": {},
     "output_type": "display_data"
    },
    {
     "data": {
      "text/html": [
       "<pre style=\"white-space:pre;overflow-x:auto;line-height:normal;font-family:Menlo,'DejaVu Sans Mono',consolas,'Courier New',monospace\"><span style=\"font-weight: bold\"> Trainable params: </span><span style=\"color: #00af00; text-decoration-color: #00af00\">121,930</span> (476.29 KB)\n",
       "</pre>\n"
      ],
      "text/plain": [
       "\u001b[1m Trainable params: \u001b[0m\u001b[38;5;34m121,930\u001b[0m (476.29 KB)\n"
      ]
     },
     "metadata": {},
     "output_type": "display_data"
    },
    {
     "data": {
      "text/html": [
       "<pre style=\"white-space:pre;overflow-x:auto;line-height:normal;font-family:Menlo,'DejaVu Sans Mono',consolas,'Courier New',monospace\"><span style=\"font-weight: bold\"> Non-trainable params: </span><span style=\"color: #00af00; text-decoration-color: #00af00\">0</span> (0.00 B)\n",
       "</pre>\n"
      ],
      "text/plain": [
       "\u001b[1m Non-trainable params: \u001b[0m\u001b[38;5;34m0\u001b[0m (0.00 B)\n"
      ]
     },
     "metadata": {},
     "output_type": "display_data"
    }
   ],
   "source": [
    "# Build the CNN model\n",
    "model = models.Sequential()\n",
    "\n",
    "# Convolutional Layer 1\n",
    "model.add(layers.Conv2D(32, kernel_size=(3, 3), activation='relu', input_shape=(28, 28, 1)))\n",
    "model.add(layers.MaxPooling2D(pool_size=(2, 2)))\n",
    "\n",
    "# Convolutional Layer 2\n",
    "model.add(layers.Conv2D(64, kernel_size=(3, 3), activation='relu'))\n",
    "model.add(layers.MaxPooling2D(pool_size=(2, 2)))\n",
    "\n",
    "# Flatten the output from the convolutional layers\n",
    "model.add(layers.Flatten())\n",
    "\n",
    "# Fully connected layer\n",
    "model.add(layers.Dense(64, activation='relu'))\n",
    "\n",
    "# Output layer (10 classes for digit recognition)\n",
    "model.add(layers.Dense(10, activation='softmax')) #num_classes=10\n",
    "\n",
    "# Summary of the model architecture\n",
    "model.summary()"
   ]
  },
  {
   "cell_type": "markdown",
   "metadata": {
    "id": "LsJqrsiBYDp-"
   },
   "source": [
    "**Explanation of Different Layers**\n",
    "\n",
    "- **Input Layer**:\n",
    "  - This layer simply holds the input data, preparing it for subsequent layers.\n",
    "  - Shape: `(28, 28, 1)` (grayscale MNIST image with height and width of 28 pixels and 1 channel).\n",
    "- **Convolutional Layer 1**:\n",
    "  - Extracts features like edges, corners, or patterns from the image.\n",
    "  - Uses 32 filters (or kernels) of size `3 X 3` to scan over the input image.\n",
    "  - Each filter performs a dot product with overlapping regions in the image (convolution).\n",
    "  - **ReLU Activation**: Keeps only positive values, making the model nonlinear.\n",
    "  - Output Shape: If the input is `28 x 28 x 1`, this layer outputs `26 x 26 x 32` (height and width shrink due to the `3 x 3` kernel).\n",
    "- **Max Pooling Layer 1**:\n",
    "  - Reduces the spatial dimensions (height and width) to make the model more efficient and reduce overfitting.\n",
    "  - Divides the input into `2 x 2` regions and keeps only the maximum value from each region.\n",
    "  - Output Shape: `26 x 26 x 32` becomes `13 x 13 x 32`.\n",
    "- **Convolutional Layer 2**:\n",
    "  - Extracts more complex patterns, such as shapes or textures.\n",
    "  - Applies 64 filters (or kernels) of size `3 X 3`\n",
    "  - **ReLU Activation** is applied again to retain only positive values.\n",
    "  - Output Shape: `13 x 13 x 32` becomes `11 x 11 x 64`.\n",
    "- **Max Pooling Layer 2**:\n",
    "  - Further reduces the spatial dimensions to focus on the most prominent features.\n",
    "  - Divides the input into `2 x 2` regions and keeps only the maximum value from each region, similar to Max Pooling Layer 1.\n",
    "  - Output Shape: `11 x 11 x 64` becomes `5 x 5 x 64`.\n",
    "- **Flatten Layer**:\n",
    "  - Converts the 3D tensor output from the previous layers into a 1D vector to pass into a fully connected layer.\n",
    "  - `5 x 5 x 64` is flattened into a single vector of size `1600` (= `5 x 5 x 64`)\n",
    "- **Fully Connected (Dense) Layer**:\n",
    "  - Learns high-level patterns by connecting all neurons from the flattened vector.\n",
    "  - 64 neurons are connected to the `1600`-dimensional input vector.\n",
    "  - **ReLU Activation** is applied to introduce nonlinearity.\n",
    "  - Output Shape: 64 neurons.\n",
    "- **Output Layer**:\n",
    "  - Produces a probability distribution for the 10 classes (digits 0-9).\n",
    "  - The **Softmax Activation Function** ensures that the outputs sum to 1 and can be interpreted as probabilities.\n",
    "  - Output Shape: 10 neurons, each for one class."
   ]
  },
  {
   "cell_type": "markdown",
   "metadata": {
    "id": "GRzpXuB9wx3N"
   },
   "source": [
    "**How the number of filters (kernels) is decided?**\n",
    "\n",
    "The number of filters (e.g., `32` in the Convolutional Layer 1, `64` in the Convolutional Layer 2) is a hyperparameter decided during the design of the CNN. It is not automatically calculated but is chosen based on the following considerations:\n",
    "- **Feature Complexity**: The first convolutional layer typically uses fewer filters (e.g., 32) because it captures low-level features such as edges, lines, or corners. Subsequent layers use more filters (e.g., 64, 128, etc.) because they capture higher-level, more abstract features like textures or shapes.\n",
    "- **Empirical Rules**: A common practice is to start with a small number (e.g., 32 filters) and double the number in subsequent layers (e.g., 64, 128). This progression allows the model to capture increasingly complex features as the network deepens.\n",
    "\n",
    "**How the Flatten Layer Connects to the Fully Connected Layer?**\n",
    "\n",
    "- The Flatten layer converts the 3D tensor output of the final pooling layer into a 1D vector. For example: The tensor at the final pooling layer has a shape of `5 x 5 x 64` (height, width, number of filters). Flattening converts this into a vector of `5 x 5 x 64 = 1600` elements.\n",
    "- Each of the `1600` values (neurons) in the flattened vector is connected to all neurons in the Dense layer (which has 64 neurons in this example). This results in `1600 x 64 = 102,400` weights in this layer, plus `64` biases (one for each neuron).\n",
    "\n",
    "The number of neurons in the fully connected layer is another hyperparameter, chosen based on: complexity of the dataset, experimentation, regularization need etc.\n",
    "\n",
    "**We can add multiple dense layers with a dropout layer in between! This is a common technique in deep learning to improve the performance of the network, especially to prevent overfitting.**\n",
    "\n",
    "**What Does a Dropout Layer Do?**\n",
    "\n",
    "The Dropout layer randomly sets a fraction of the input neurons (e.g., 20%-50%) to zero during training. These \"dropped\" neurons are ignored in both the forward pass and backpropagation. This effectively prevents the network from relying too heavily on any specific neurons.\n",
    "\n",
    "During **training**, neurons are dropped randomly with a specified probability (e.g., `rate=0.5` means 50% of the neurons are ignored). This forces the network to learn redundant representations of features, as other neurons must compensate for the dropped ones.\n",
    "\n",
    "During **inference(testing)**, no neurons are dropped, but their outputs are scaled down by the dropout rate to reflect the expected contribution during training.\n",
    "\n",
    "**Purpose of Dropout Layer**:\n",
    "- **Prevents overfitting**: Dropout ensures the model generalizes better by reducing reliance on specific neurons. Dense layers have a large number of parameters (e.g., `1600 x 64 = 102,400`), making them prone to overfitting, especially when the dataset is small or simple.\n",
    "- **Promotes Robust Feature Learning**: By forcing the network to distribute the learning across multiple neurons, dropout helps the model learn more diverse and robust feature representations.\n",
    "- **Regularization Technique**: Similar to weight regularization (like L2 regularization), dropout adds randomness to prevent over-reliance on specific paths in the network.\n",
    "\n",
    "**Adding Multiple Dense Layers with Dropout**\n",
    "\n",
    "```\n",
    "from tensorflow.keras import layers, models\n",
    "\n",
    "model = models.Sequential()\n",
    "\n",
    "# Flatten layer\n",
    "model.add(layers.Flatten(input_shape=(5, 5, 64)))  # Input from previous CNN layers\n",
    "\n",
    "# Fully connected dense layers with dropout\n",
    "model.add(layers.Dense(128, activation='relu'))  # First dense layer with 128 neurons\n",
    "model.add(layers.Dropout(0.5))  # Dropout with 50% rate\n",
    "\n",
    "model.add(layers.Dense(64, activation='relu'))  # Second dense layer with 64 neurons\n",
    "model.add(layers.Dropout(0.5))  # Dropout with 50% rate\n",
    "\n",
    "# Output layer\n",
    "model.add(layers.Dense(10, activation='softmax'))  # Final output layer for classification\n",
    "```"
   ]
  },
  {
   "cell_type": "markdown",
   "metadata": {
    "id": "EVJMH9VNHEsK"
   },
   "source": [
    "### **Step 5: Compile the Model**\n",
    "\n",
    "Once the model is built, we need to compile it. The compile step specifies the optimizer, loss function, and metrics to evaluate during training."
   ]
  },
  {
   "cell_type": "code",
   "execution_count": 4,
   "metadata": {
    "id": "34Y7nQulDQe5"
   },
   "outputs": [],
   "source": [
    "# Compile the model\n",
    "model.compile(optimizer='adam',\n",
    "              loss='categorical_crossentropy',\n",
    "              metrics=['accuracy'])"
   ]
  },
  {
   "cell_type": "markdown",
   "metadata": {
    "id": "Al8iKfJ2HXif"
   },
   "source": [
    "### **Step 6: Train the Model**\n",
    "\n",
    "Next, let’s train the model using the training data."
   ]
  },
  {
   "cell_type": "code",
   "execution_count": 5,
   "metadata": {
    "colab": {
     "base_uri": "https://localhost:8080/"
    },
    "id": "8LIEDk7AHKNc",
    "outputId": "e1e35973-c16d-4b5e-87f8-c13395397d8d"
   },
   "outputs": [
    {
     "name": "stdout",
     "output_type": "stream",
     "text": [
      "Epoch 1/10\n",
      "\u001b[1m938/938\u001b[0m \u001b[32m━━━━━━━━━━━━━━━━━━━━\u001b[0m\u001b[37m\u001b[0m \u001b[1m14s\u001b[0m 12ms/step - accuracy: 0.8826 - loss: 0.4056 - val_accuracy: 0.9816 - val_loss: 0.0548\n",
      "Epoch 2/10\n",
      "\u001b[1m938/938\u001b[0m \u001b[32m━━━━━━━━━━━━━━━━━━━━\u001b[0m\u001b[37m\u001b[0m \u001b[1m12s\u001b[0m 12ms/step - accuracy: 0.9812 - loss: 0.0598 - val_accuracy: 0.9852 - val_loss: 0.0448\n",
      "Epoch 3/10\n",
      "\u001b[1m938/938\u001b[0m \u001b[32m━━━━━━━━━━━━━━━━━━━━\u001b[0m\u001b[37m\u001b[0m \u001b[1m12s\u001b[0m 13ms/step - accuracy: 0.9868 - loss: 0.0414 - val_accuracy: 0.9870 - val_loss: 0.0377\n",
      "Epoch 4/10\n",
      "\u001b[1m938/938\u001b[0m \u001b[32m━━━━━━━━━━━━━━━━━━━━\u001b[0m\u001b[37m\u001b[0m \u001b[1m12s\u001b[0m 13ms/step - accuracy: 0.9897 - loss: 0.0326 - val_accuracy: 0.9880 - val_loss: 0.0384\n",
      "Epoch 5/10\n",
      "\u001b[1m938/938\u001b[0m \u001b[32m━━━━━━━━━━━━━━━━━━━━\u001b[0m\u001b[37m\u001b[0m \u001b[1m13s\u001b[0m 14ms/step - accuracy: 0.9931 - loss: 0.0211 - val_accuracy: 0.9899 - val_loss: 0.0321\n",
      "Epoch 6/10\n",
      "\u001b[1m938/938\u001b[0m \u001b[32m━━━━━━━━━━━━━━━━━━━━\u001b[0m\u001b[37m\u001b[0m \u001b[1m10s\u001b[0m 11ms/step - accuracy: 0.9947 - loss: 0.0161 - val_accuracy: 0.9899 - val_loss: 0.0315\n",
      "Epoch 7/10\n",
      "\u001b[1m938/938\u001b[0m \u001b[32m━━━━━━━━━━━━━━━━━━━━\u001b[0m\u001b[37m\u001b[0m \u001b[1m10s\u001b[0m 10ms/step - accuracy: 0.9951 - loss: 0.0147 - val_accuracy: 0.9893 - val_loss: 0.0338\n",
      "Epoch 8/10\n",
      "\u001b[1m938/938\u001b[0m \u001b[32m━━━━━━━━━━━━━━━━━━━━\u001b[0m\u001b[37m\u001b[0m \u001b[1m11s\u001b[0m 11ms/step - accuracy: 0.9967 - loss: 0.0109 - val_accuracy: 0.9901 - val_loss: 0.0301\n",
      "Epoch 9/10\n",
      "\u001b[1m938/938\u001b[0m \u001b[32m━━━━━━━━━━━━━━━━━━━━\u001b[0m\u001b[37m\u001b[0m \u001b[1m11s\u001b[0m 12ms/step - accuracy: 0.9968 - loss: 0.0096 - val_accuracy: 0.9905 - val_loss: 0.0319\n",
      "Epoch 10/10\n",
      "\u001b[1m938/938\u001b[0m \u001b[32m━━━━━━━━━━━━━━━━━━━━\u001b[0m\u001b[37m\u001b[0m \u001b[1m12s\u001b[0m 13ms/step - accuracy: 0.9969 - loss: 0.0096 - val_accuracy: 0.9903 - val_loss: 0.0344\n",
      "The model has successfully trained\n"
     ]
    }
   ],
   "source": [
    "# Train the model\n",
    "history = model.fit(x_train, y_train, epochs=10, batch_size=64, validation_data=(x_test, y_test), verbose=1)\n",
    "print(\"The model has successfully trained\")"
   ]
  },
  {
   "cell_type": "markdown",
   "metadata": {},
   "source": [
    "**HOW `epochs` AND `batch_size` IMPACT THE PERFORMANCE?**\n",
    "\n",
    "**EPOCHS**\n",
    "<br>An epoch is one complete pass of the entire training dataset through the model. During training, the weights are updated after every batch in each epoch.\n",
    "\n",
    "**How `epochs` impact performance**:\n",
    "\n",
    "- **Too few epochs**:\n",
    "    - The model may **underfit** because it doesn’t have enough opportunities to learn patterns from the data.\n",
    "    - The training and validation losses will not converge, and the accuracy will be low.\n",
    "- **Too many epochs**:\n",
    "    - The model may **overfit** the training data, meaning it performs well on the training set but poorly on unseen data.\n",
    "    - Validation loss may start increasing even as training loss decreases.\n",
    "\n",
    "**How to choose right number of `epochs`**:\n",
    "\n",
    "- Monitor the **training and validation loss**:\n",
    "    - If the validation loss stops improving or starts increasing, the training should be stopped. This is called **early stopping**.\n",
    "- Use **Cross-Validation**:\n",
    "    - Split the training data into training and validation subsets to observe the performance on unseen data during training.\n",
    "- **Empirical Values**:\n",
    "    - For small datasets like MNIST, 10–30 epochs are often sufficient. For more complex datasets, the number may range from 50 to 100 or more.\n",
    " \n",
    "**BATCH SIZE**\n",
    "<br>The batch size is the number of training samples processed before the model's internal parameters (weights) are updated.\n",
    "\n",
    "**How `batch_size` impact performance**:\n",
    "\n",
    "- **Small batch size (e.g., 8, 16)**:\n",
    "    - More frequent weight updates, leading to a more dynamic learning process. (+)\n",
    "    - Helps escape local minima in the loss landscape due to noisy gradients. (+)\n",
    "    - Requires less memory, making it suitable for GPUs with limited memory. (+)\n",
    "    - Training can be slow due to frequent updates. (-)\n",
    "    - Noisy updates may prevent the model from converging to the global minimum. (-)\n",
    "- **Large Batch Size (e.g., 64, 128, or more)**:\n",
    "    - More stable and precise gradient estimates, leading to smoother convergence. (+)\n",
    "    - Faster training since fewer updates are required per epoch. (+)\n",
    "    - Requires more memory, making it challenging for larger networks and high-resolution inputs. (-)\n",
    "    - May get stuck in sharp local minima, reducing generalization ability. (-)\n",
    "\n",
    "**How to choose right `batch_size`**:\n",
    "\n",
    "- **Hardware limitations**:\n",
    "    - Large batch sizes (e.g., 128, 256) require GPUs with more memory.\n",
    "    - On limited hardware, start with small sizes (e.g., 32 or 64).\n",
    "- **Dataset size**:\n",
    "    - For small datasets, smaller batch sizes often work better.\n",
    "    - For large datasets, larger batch sizes may speed up training without sacrificing performance.\n",
    "- **Empirical Rules**:\n",
    "    - A common starting point is `32` or `64`, but this should be fine-tuned based on the problem.\n",
    "\n",
    "**COMBINED IMPACT OF EPOCHS AND BATCH SIZE**\n",
    "\n",
    "- **Training Time**:\n",
    "    - Smaller batch sizes require more updates per epoch, increasing training time.\n",
    "    - Larger batch sizes speed up training but require more GPU memory.\n",
    "- **Model Performance**:\n",
    "    - Too few epochs or too small a batch size may result in underfitting.\n",
    "    - Too many epochs or too large a batch size may lead to overfitting or poor generalization.\n",
    "\n",
    "**PRACTICAL TIPS**\n",
    "1. **Start with Standard Values**: Begin with batch sizes of `32` or `64`, and train for `10 - 30` epochs.\n",
    "2. **Experiment**: Use different batch sizes (e.g., 32, 64, 128) and epochs while monitoring the loss and accuracy.\n",
    "3. **Early Stopping**: Use early stopping to avoid overfitting by stopping training when validation performance stops improving.\n",
    "4. **Learning Rate**: Adjust the learning rate when changing the batch size. A smaller batch size might require a smaller learning rate and vice versa."
   ]
  },
  {
   "cell_type": "markdown",
   "metadata": {},
   "source": [
    "**TOTAL NUMBER OF WEIGHT UPDATES**\n",
    "\n",
    "If the dataset contains $N$ samples and the batch size is $32$, the weights will be updated $N/32$ times per epoch.\n",
    "<br>Over $10$ epochs, the total number of weight updates will be:\n",
    "\n",
    "$$\\text{Total updates} = \\frac{N}{32} \\times 10$$\n",
    "\n",
    "For example, if $N = 10,000$, there will be $\\frac{10,000}{32} \\times 10 = 3,125$ updates in total per weight. That is, each weights will be updated $3,125$ times. So,\n",
    "\n",
    "$$\\text{Total weight updates} = 3,125 \\times \\text{Number of weights in the model}$$"
   ]
  },
  {
   "cell_type": "markdown",
   "metadata": {
    "id": "HyD4MsvIJdqY"
   },
   "source": [
    "### **Step 7: Evaluate the Model**\n",
    "\n",
    "After training, we can evaluate the model using the test data to see how well it performs."
   ]
  },
  {
   "cell_type": "code",
   "execution_count": 6,
   "metadata": {
    "colab": {
     "base_uri": "https://localhost:8080/"
    },
    "id": "eGix0whrHe8n",
    "outputId": "67c653dc-a7b0-4de4-c14d-04e1e0e0bc19"
   },
   "outputs": [
    {
     "name": "stdout",
     "output_type": "stream",
     "text": [
      "\u001b[1m313/313\u001b[0m \u001b[32m━━━━━━━━━━━━━━━━━━━━\u001b[0m\u001b[37m\u001b[0m \u001b[1m1s\u001b[0m 3ms/step - accuracy: 0.9871 - loss: 0.0475     \n",
      "Test accuracy: 99.03%\n",
      "Test loss: 3.44%\n"
     ]
    }
   ],
   "source": [
    "# Evaluate the model on the test data\n",
    "test_loss, test_acc = model.evaluate(x_test, y_test, verbose=1)\n",
    "print(f\"Test accuracy: {test_acc * 100:.2f}%\")\n",
    "print(f\"Test loss: {test_loss * 100:.2f}%\")"
   ]
  },
  {
   "cell_type": "markdown",
   "metadata": {
    "id": "SOJqSF6vKRhh"
   },
   "source": [
    "### **Step 8: Saving the Model**\n",
    "\n",
    "We can also save the model using any name of our choice."
   ]
  },
  {
   "cell_type": "code",
   "execution_count": 7,
   "metadata": {
    "colab": {
     "base_uri": "https://localhost:8080/"
    },
    "id": "eX86_GLfJw89",
    "outputId": "8262ff94-706d-45eb-992f-8df1679b05a6"
   },
   "outputs": [
    {
     "name": "stdout",
     "output_type": "stream",
     "text": [
      "Saving the model as cnn_example_mnist.keras\n"
     ]
    }
   ],
   "source": [
    "model.save('cnn_example_mnist.keras')\n",
    "print(\"Saving the model as cnn_example_mnist.keras\")"
   ]
  },
  {
   "cell_type": "markdown",
   "metadata": {
    "id": "BEpbD2zaKYYP"
   },
   "source": [
    "### **Step 9: Plotting the Training History**\n",
    "\n",
    "It’s helpful to visualize the training process to understand how the model is improving over time."
   ]
  },
  {
   "cell_type": "code",
   "execution_count": 8,
   "metadata": {
    "colab": {
     "base_uri": "https://localhost:8080/",
     "height": 927
    },
    "id": "QImT1nfeJ7L-",
    "outputId": "ea2fe18a-4456-42a2-b343-6fa95c3cad05"
   },
   "outputs": [
    {
     "data": {
      "image/png": "[encoded data removed]",
      "text/plain": [
       "<Figure size 640x480 with 1 Axes>"
      ]
     },
     "metadata": {},
     "output_type": "display_data"
    },
    {
     "data": {
      "image/png": "[encoded data removed]",
      "text/plain": [
       "<Figure size 640x480 with 1 Axes>"
      ]
     },
     "metadata": {},
     "output_type": "display_data"
    }
   ],
   "source": [
    "epochs = range(1, len(history.history['accuracy']) + 1)\n",
    "\n",
    "# Plot training & validation accuracy values\n",
    "plt.plot(epochs, history.history['accuracy'])\n",
    "plt.plot(epochs, history.history['val_accuracy'])\n",
    "plt.title('Model accuracy')\n",
    "plt.xlabel('Epoch')\n",
    "plt.ylabel('Accuracy')\n",
    "plt.xticks(epochs)\n",
    "plt.legend(['Train', 'Test'], loc='lower right')\n",
    "# plt.grid(True)\n",
    "plt.tight_layout()\n",
    "plt.show()\n",
    "\n",
    "# Plot training & validation loss values\n",
    "plt.plot(history.history['loss'])\n",
    "plt.plot(history.history['val_loss'])\n",
    "plt.title('Model loss')\n",
    "plt.xlabel('Epoch')\n",
    "plt.ylabel('Loss')\n",
    "plt.xticks(epochs)\n",
    "plt.legend(['Train', 'Test'], loc='upper right')\n",
    "# plt.grid(True)\n",
    "plt.tight_layout()\n",
    "plt.show()"
   ]
  },
  {
   "cell_type": "markdown",
   "metadata": {
    "id": "l9bp365QLCZZ"
   },
   "source": [
    "### **Step 10: Hyperparameter Tuning**\n",
    "\n",
    "Now that we have the basic CNN, we can experiment with hyperparameter tuning. Here are some common hyperparameters you may want to adjust:\n",
    "\n",
    "1. **Filter Size**: The size of the convolutional kernel (e.g., (3, 3), (5, 5)).\n",
    "2. **Number of Filters**: The number of filters (also known as kernels) used in each convolutional layer.\n",
    "3. **Number of Layers**: The number of convolutional layers and fully connected layers.\n",
    "4. **Activation Functions**: Common activation functions include ReLU, Sigmoid, Softmax, etc.\n",
    "5. **Learning Rate**: The learning rate of the optimizer.\n",
    "\n",
    "For example, you can change the filter size or the number of layers like this:"
   ]
  },
  {
   "cell_type": "code",
   "execution_count": null,
   "metadata": {
    "id": "dRHDTJNwKhYI"
   },
   "outputs": [],
   "source": [
    "# Modify the model with different hyperparameters (e.g., more filters, different kernel sizes)\n",
    "model = models.Sequential()\n",
    "model.add(layers.Conv2D(64, (5, 5), activation='relu', input_shape=(28, 28, 1)))\n",
    "model.add(layers.MaxPooling2D((2, 2)))\n",
    "model.add(layers.Conv2D(128, (5, 5), activation='relu'))\n",
    "model.add(layers.MaxPooling2D((2, 2)))\n",
    "model.add(layers.Flatten())\n",
    "model.add(layers.Dense(128, activation='relu'))\n",
    "model.add(layers.Dense(10, activation='softmax'))\n",
    "\n",
    "model.compile(optimizer='adam', loss='categorical_crossentropy', metrics=['accuracy'])"
   ]
  },
  {
   "cell_type": "markdown",
   "metadata": {
    "id": "VBH7XKqQLZiZ"
   },
   "source": [
    "### **Step 11: Common Pitfalls and Troubleshooting Tips**\n",
    "\n",
    "1. **Overfitting**: If the model performs well on the training data but poorly on the test data, the model might be overfitting. You can prevent this by using:\n",
    "  - **Dropout**: Add dropout layers between the dense layers.\n",
    "  - **Early Stopping**: Stop training when the validation loss stops improving.\n",
    "  - **Data Augmentation**: Augment the data with transformations like rotation, flipping, etc.\n"
   ]
  },
  {
   "cell_type": "code",
   "execution_count": null,
   "metadata": {
    "id": "-B4E5zcULjQF"
   },
   "outputs": [],
   "source": [
    "# Example: Adding a dropout layer\n",
    "model.add(layers.Dropout(0.5))"
   ]
  },
  {
   "cell_type": "markdown",
   "metadata": {
    "id": "cMrJLEdcvPJG"
   },
   "source": [
    "2. **Vanishing/Exploding Gradients**: If the gradients become too small or too large during training, the network may fail to converge. You can use the ReLU activation function (as shown above) to mitigate this issue.\n",
    "\n",
    "3. **Learning Rate Issues**: If the model isn’t learning, try lowering the learning rate. If it’s learning too slowly, try increasing it."
   ]
  },
  {
   "cell_type": "code",
   "execution_count": null,
   "metadata": {
    "id": "oyAbquWOvX41"
   },
   "outputs": [],
   "source": [
    "# Example: Using a different learning rate\n",
    "model.compile(optimizer=tf.keras.optimizers.Adam(learning_rate=0.001), loss='categorical_crossentropy', metrics=['accuracy'])"
   ]
  },
  {
   "cell_type": "markdown",
   "metadata": {
    "id": "s083p9R9vZNn"
   },
   "source": [
    "4. **Incorrect Image Shape**: Ensure that the image data is reshaped properly before feeding it into the model. For example, if the images are grayscale, they should be reshaped into `(height, width, 1)`."
   ]
  },
  {
   "cell_type": "markdown",
   "metadata": {
    "id": "Ey4wVEA_vl5e"
   },
   "source": [
    "### **Conclusion**\n",
    "\n",
    "This guide provides a simple, step-by-step implementation of a CNN using **TensorFlow/Keras**. It covers everything from model building to training, evaluation, and common pitfalls in CNN training. You can experiment with hyperparameter tuning, architecture modifications, and various strategies to improve model performance."
   ]
  }
 ],
 "metadata": {
  "colab": {
   "provenance": []
  },
  "kernelspec": {
   "display_name": "Python 3 (ipykernel)",
   "language": "python",
   "name": "python3"
  },
  "language_info": {
   "codemirror_mode": {
    "name": "ipython",
    "version": 3
   },
   "file_extension": ".py",
   "mimetype": "text/x-python",
   "name": "python",
   "nbconvert_exporter": "python",
   "pygments_lexer": "ipython3",
   "version": "3.12.5"
  }
 },
 "nbformat": 4,
 "nbformat_minor": 4
}
